{
  "nbformat": 4,
  "nbformat_minor": 0,
  "metadata": {
    "colab": {
      "provenance": []
    },
    "kernelspec": {
      "name": "python3",
      "display_name": "Python 3"
    },
    "language_info": {
      "name": "python"
    }
  },
  "cells": [
    {
      "cell_type": "code",
      "execution_count": null,
      "metadata": {
        "colab": {
          "base_uri": "https://localhost:8080/"
        },
        "id": "Gd5q96Jpgglb",
        "outputId": "74ac984b-9efa-4d4b-e637-a27eb9ac1f64"
      },
      "outputs": [
        {
          "output_type": "stream",
          "name": "stdout",
          "text": [
            "Welcome to the Countdown Timer!\n",
            "Enter the countdown time in seconds: 5\n",
            "Starting countdown from 5 seconds...\n",
            "\n",
            "Time's up! ⏰\n"
          ]
        }
      ],
      "source": [
        "import time\n",
        "\n",
        "def countdown_timer(seconds):\n",
        "    print(f\"Starting countdown from {seconds} seconds...\\n\")\n",
        "\n",
        "    while seconds:\n",
        "        mins, secs = divmod(seconds, 60)\n",
        "        time_format = '{:02d}:{:02d}'.format(mins, secs)\n",
        "        print(time_format, end=\"\\r\")\n",
        "        time.sleep(1)  # Wait for one second\n",
        "        seconds -= 1  # Decrease the time by one second\n",
        "\n",
        "    print(\"Time's up! ⏰\")\n",
        "\n",
        "def main():\n",
        "    print(\"Welcome to the Countdown Timer!\")\n",
        "\n",
        "    # Ask user to input countdown time\n",
        "    try:\n",
        "        countdown_time = int(input(\"Enter the countdown time in seconds: \"))\n",
        "        if countdown_time <= 0:\n",
        "            print(\"Please enter a positive integer.\")\n",
        "            return\n",
        "    except ValueError:\n",
        "        print(\"Invalid input! Please enter a valid number.\")\n",
        "        return\n",
        "\n",
        "    countdown_timer(countdown_time)\n",
        "\n",
        "if __name__ == \"__main__\":\n",
        "    main()\n"
      ]
    }
  ]
}