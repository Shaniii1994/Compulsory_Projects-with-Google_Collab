{
  "nbformat": 4,
  "nbformat_minor": 0,
  "metadata": {
    "colab": {
      "provenance": []
    },
    "kernelspec": {
      "name": "python3",
      "display_name": "Python 3"
    },
    "language_info": {
      "name": "python"
    }
  },
  "cells": [
    {
      "cell_type": "code",
      "execution_count": null,
      "metadata": {
        "colab": {
          "base_uri": "https://localhost:8080/"
        },
        "id": "VDK2dDK6dJuF",
        "outputId": "560fd686-92e9-41e6-b15c-3a8411e02ab9"
      },
      "outputs": [
        {
          "output_type": "stream",
          "name": "stdout",
          "text": [
            "Welcome to the Guess the Number game!\n",
            "I have selected a number between 1 and 100.\n",
            "Try to guess it!\n",
            "Enter your guess: 30\n",
            "Your guess is too low.\n",
            "Enter your guess: 40\n",
            "Your guess is too low.\n",
            "Enter your guess: 60\n",
            "Your guess is too low.\n",
            "Enter your guess: 70\n",
            "Your guess is too low.\n",
            "Enter your guess: 80\n",
            "Your guess is too low.\n",
            "Enter your guess: 90\n",
            "Your guess is too high.\n",
            "Enter your guess: 83\n",
            "Your guess is too low.\n",
            "Enter your guess: 85\n",
            "Your guess is too low.\n",
            "Enter your guess: 86\n",
            "Your guess is too low.\n",
            "Enter your guess: 88\n",
            "Your guess is too low.\n",
            "Enter your guess: 89\n",
            "Congratulations! You've guessed the number 89 correctly in 11 attempts!\n"
          ]
        }
      ],
      "source": [
        "import random\n",
        "\n",
        "def main():\n",
        "    print(\"Welcome to the Guess the Number game!\")\n",
        "\n",
        "    # The computer selects a random number between 1 and 100\n",
        "    number_to_guess = random.randint(1, 100)\n",
        "\n",
        "    attempts = 0\n",
        "    guessed_correctly = False\n",
        "\n",
        "    print(\"I have selected a number between 1 and 100.\")\n",
        "    print(\"Try to guess it!\")\n",
        "\n",
        "    while not guessed_correctly:\n",
        "        try:\n",
        "            user_guess = int(input(\"Enter your guess: \"))  # Get input from user\n",
        "        except ValueError:\n",
        "            print(\"Please enter a valid integer.\")\n",
        "            continue\n",
        "\n",
        "        attempts += 1\n",
        "\n",
        "        if user_guess < number_to_guess:\n",
        "            print(\"Your guess is too low.\")\n",
        "        elif user_guess > number_to_guess:\n",
        "            print(\"Your guess is too high.\")\n",
        "        else:\n",
        "            guessed_correctly = True\n",
        "            print(f\"Congratulations! You've guessed the number {number_to_guess} correctly in {attempts} attempts!\")\n",
        "\n",
        "if __name__ == '__main__':\n",
        "    main()\n"
      ]
    }
  ]
}