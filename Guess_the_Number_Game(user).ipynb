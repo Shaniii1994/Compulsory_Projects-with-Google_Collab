{
  "nbformat": 4,
  "nbformat_minor": 0,
  "metadata": {
    "colab": {
      "provenance": []
    },
    "kernelspec": {
      "name": "python3",
      "display_name": "Python 3"
    },
    "language_info": {
      "name": "python"
    }
  },
  "cells": [
    {
      "cell_type": "code",
      "execution_count": null,
      "metadata": {
        "colab": {
          "base_uri": "https://localhost:8080/"
        },
        "id": "U50xQawEeDi6",
        "outputId": "88925413-8504-43c1-fc78-ca8463ec575c"
      },
      "outputs": [
        {
          "output_type": "stream",
          "name": "stdout",
          "text": [
            "Welcome to the Guess the Number game!\n",
            "Please think of a number between 1 and 100 and keep it in your mind.\n",
            "I will try to guess it!\n",
            "My guess is: 50\n",
            "Is my guess too high, too low, or correct? (high/low/correct): low\n",
            "My guess is: 75\n",
            "Is my guess too high, too low, or correct? (high/low/correct): high\n",
            "My guess is: 62\n",
            "Is my guess too high, too low, or correct? (high/low/correct): high\n",
            "My guess is: 56\n",
            "Is my guess too high, too low, or correct? (high/low/correct): low\n",
            "My guess is: 59\n",
            "Is my guess too high, too low, or correct? (high/low/correct): low\n",
            "My guess is: 60\n",
            "Is my guess too high, too low, or correct? (high/low/correct): correct\n",
            "Yay! I guessed your number 60 in 6 attempts.\n"
          ]
        }
      ],
      "source": [
        "def main():\n",
        "    print(\"Welcome to the Guess the Number game!\")\n",
        "\n",
        "    # Ask the user to think of a number between 1 and 100\n",
        "    print(\"Please think of a number between 1 and 100 and keep it in your mind.\")\n",
        "    print(\"I will try to guess it!\")\n",
        "\n",
        "    low = 1\n",
        "    high = 100\n",
        "    guesses = 0\n",
        "    guessed_correctly = False\n",
        "\n",
        "    while not guessed_correctly:\n",
        "        # The computer guesses the middle number\n",
        "        guess = (low + high) // 2\n",
        "        guesses += 1\n",
        "\n",
        "        print(f\"My guess is: {guess}\")\n",
        "\n",
        "        # Ask the user for feedback\n",
        "        feedback = input(\"Is my guess too high, too low, or correct? (high/low/correct): \").lower()\n",
        "\n",
        "        if feedback == \"high\":\n",
        "            high = guess - 1\n",
        "        elif feedback == \"low\":\n",
        "            low = guess + 1\n",
        "        elif feedback == \"correct\":\n",
        "            guessed_correctly = True\n",
        "            print(f\"Yay! I guessed your number {guess} in {guesses} attempts.\")\n",
        "        else:\n",
        "            print(\"Please enter a valid response (high/low/correct).\")\n",
        "\n",
        "if __name__ == '__main__':\n",
        "    main()\n"
      ]
    }
  ]
}