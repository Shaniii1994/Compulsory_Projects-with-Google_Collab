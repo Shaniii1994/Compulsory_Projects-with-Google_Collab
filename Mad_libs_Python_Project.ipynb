{
  "nbformat": 4,
  "nbformat_minor": 0,
  "metadata": {
    "colab": {
      "provenance": []
    },
    "kernelspec": {
      "name": "python3",
      "display_name": "Python 3"
    },
    "language_info": {
      "name": "python"
    }
  },
  "cells": [
    {
      "cell_type": "code",
      "execution_count": null,
      "metadata": {
        "id": "tDHHWZOfGdin",
        "colab": {
          "base_uri": "https://localhost:8080/"
        },
        "outputId": "1f56d5c0-fa09-4c15-e1e4-b6330f92c95e"
      },
      "outputs": [
        {
          "output_type": "stream",
          "name": "stdout",
          "text": [
            "Welcome to Mad Libs!\n",
            "Enter a noun: cat\n",
            "Enter a verb: run\n",
            "Enter an adjective: cute\n",
            "Enter another noun: dog\n",
            "Enter another verb: sit\n",
            "Enter another adjective: fast\n",
            "\n",
            "Here is your Mad Libs story:\n",
            "Once upon a time, there was a cute cat who loved to run. One day, it found a fast dog and decided to sit with it. They had a lot of fun and lived happily ever after.\n"
          ]
        }
      ],
      "source": [
        "def main():\n",
        "    print(\"Welcome to Mad Libs!\")\n",
        "\n",
        "    # Collecting user inputs\n",
        "    noun1 = input(\"Enter a noun: \")\n",
        "    verb1 = input(\"Enter a verb: \")\n",
        "    adjective1 = input(\"Enter an adjective: \")\n",
        "    noun2 = input(\"Enter another noun: \")\n",
        "    verb2 = input(\"Enter another verb: \")\n",
        "    adjective2 = input(\"Enter another adjective: \")\n",
        "\n",
        "    # Story template\n",
        "    story = f\"Once upon a time, there was a {adjective1} {noun1} who loved to {verb1}. \" \\\n",
        "            f\"One day, it found a {adjective2} {noun2} and decided to {verb2} with it. \" \\\n",
        "            \"They had a lot of fun and lived happily ever after.\"\n",
        "\n",
        "    # Display the completed story\n",
        "    print(\"\\nHere is your Mad Libs story:\")\n",
        "    print(story)\n",
        "\n",
        "# Run the Mad Libs game\n",
        "if __name__ == '__main__':\n",
        "    main()"
      ]
    }
  ]
}