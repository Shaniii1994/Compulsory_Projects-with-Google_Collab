{
  "nbformat": 4,
  "nbformat_minor": 0,
  "metadata": {
    "colab": {
      "provenance": []
    },
    "kernelspec": {
      "name": "python3",
      "display_name": "Python 3"
    },
    "language_info": {
      "name": "python"
    }
  },
  "cells": [
    {
      "cell_type": "code",
      "execution_count": null,
      "metadata": {
        "colab": {
          "base_uri": "https://localhost:8080/"
        },
        "id": "Xa3yKpp6hTHD",
        "outputId": "b0f3909b-fb9e-4c6f-ca7c-18ae3ec44202"
      },
      "outputs": [
        {
          "output_type": "stream",
          "name": "stdout",
          "text": [
            "Welcome to the Secure Password Generator!\n",
            "Enter the desired password length: 9\n",
            "Include uppercase letters? (yes/no): no\n",
            "Include numbers? (yes/no): yes\n",
            "Include special characters? (yes/no): yes\n",
            "\n",
            "Your secure password is: &3{\"x')wt\n"
          ]
        }
      ],
      "source": [
        "import random\n",
        "import string\n",
        "\n",
        "def generate_password(length, use_uppercase, use_numbers, use_special_chars):\n",
        "    characters = string.ascii_lowercase  # Always include lowercase letters\n",
        "\n",
        "    # Add the selected character types to the pool of characters\n",
        "    if use_uppercase:\n",
        "        characters += string.ascii_uppercase\n",
        "    if use_numbers:\n",
        "        characters += string.digits\n",
        "    if use_special_chars:\n",
        "        characters += string.punctuation\n",
        "\n",
        "    # Ensure the password is at least as long as the specified length\n",
        "    password = ''.join(random.choice(characters) for _ in range(length))\n",
        "    return password\n",
        "\n",
        "def main():\n",
        "    print(\"Welcome to the Secure Password Generator!\")\n",
        "\n",
        "    # Get user input for password criteria\n",
        "    try:\n",
        "        length = int(input(\"Enter the desired password length: \"))\n",
        "        if length < 8:\n",
        "            print(\"Password length should be at least 8 characters for better security.\")\n",
        "            return\n",
        "    except ValueError:\n",
        "        print(\"Invalid input! Please enter a valid number.\")\n",
        "        return\n",
        "\n",
        "    use_uppercase = input(\"Include uppercase letters? (yes/no): \").lower() == 'yes'\n",
        "    use_numbers = input(\"Include numbers? (yes/no): \").lower() == 'yes'\n",
        "    use_special_chars = input(\"Include special characters? (yes/no): \").lower() == 'yes'\n",
        "\n",
        "    # Generate the password\n",
        "    password = generate_password(length, use_uppercase, use_numbers, use_special_chars)\n",
        "\n",
        "    # Show the generated password\n",
        "    print(f\"\\nYour secure password is: {password}\")\n",
        "\n",
        "if __name__ == \"__main__\":\n",
        "    main()\n"
      ]
    }
  ]
}