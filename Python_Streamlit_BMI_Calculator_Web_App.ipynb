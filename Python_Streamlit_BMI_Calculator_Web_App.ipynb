{
  "nbformat": 4,
  "nbformat_minor": 0,
  "metadata": {
    "colab": {
      "provenance": []
    },
    "kernelspec": {
      "name": "python3",
      "display_name": "Python 3"
    },
    "language_info": {
      "name": "python"
    }
  },
  "cells": [
    {
      "cell_type": "code",
      "source": [
        "# Function to calculate BMI\n",
        "def calculate_bmi(weight, height):\n",
        "    bmi = weight / (height ** 2)\n",
        "    return bmi\n",
        "\n",
        "# Function to interpret BMI result\n",
        "def get_bmi_category(bmi):\n",
        "    if bmi < 18.5:\n",
        "        return \"Underweight\"\n",
        "    elif 18.5 <= bmi < 24.9:\n",
        "        return \"Normal weight\"\n",
        "    elif 25 <= bmi < 29.9:\n",
        "        return \"Overweight\"\n",
        "    else:\n",
        "        return \"Obesity\"\n",
        "\n",
        "# Main function to interact with the user\n",
        "def main():\n",
        "    print(\"BMI Calculator\")\n",
        "\n",
        "    # Input from the user for weight and height\n",
        "    weight = float(input(\"Enter your weight (kg): \"))\n",
        "    height = float(input(\"Enter your height (m): \"))\n",
        "\n",
        "    # Calculate and display the BMI when inputs are valid\n",
        "    if weight > 0 and height > 0:\n",
        "        bmi = calculate_bmi(weight, height)\n",
        "        bmi_category = get_bmi_category(bmi)\n",
        "        print(f\"Your BMI is: {bmi:.2f}\")\n",
        "        print(f\"Category: {bmi_category}\")\n",
        "    else:\n",
        "        print(\"Please enter valid values for weight and height.\")\n",
        "\n",
        "# Run the program\n",
        "if __name__ == '__main__':\n",
        "    main()\n"
      ],
      "metadata": {
        "id": "MAQ1eWEYikVL",
        "outputId": "ca07f9a6-3e2d-4824-ba2b-dac35afd2481",
        "colab": {
          "base_uri": "https://localhost:8080/"
        }
      },
      "execution_count": null,
      "outputs": [
        {
          "output_type": "stream",
          "name": "stdout",
          "text": [
            "BMI Calculator\n",
            "Enter your weight (kg): 72\n",
            "Enter your height (m): 5.9\n",
            "Your BMI is: 2.07\n",
            "Category: Underweight\n"
          ]
        }
      ]
    }
  ]
}