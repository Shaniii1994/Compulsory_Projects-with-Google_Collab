{
  "nbformat": 4,
  "nbformat_minor": 0,
  "metadata": {
    "colab": {
      "provenance": []
    },
    "kernelspec": {
      "name": "python3",
      "display_name": "Python 3"
    },
    "language_info": {
      "name": "python"
    }
  },
  "cells": [
    {
      "cell_type": "code",
      "execution_count": null,
      "metadata": {
        "colab": {
          "base_uri": "https://localhost:8080/"
        },
        "id": "P9pRWsiXepTV",
        "outputId": "a35bdd42-04d7-4d8e-c877-1c7a38071e1d"
      },
      "outputs": [
        {
          "output_type": "stream",
          "name": "stdout",
          "text": [
            "Welcome to Rock, Paper, Scissors!\n",
            "Enter 'rock', 'paper', or 'scissors' (or 'quit' to stop playing): rock\n",
            "Computer chose: rock\n",
            "It's a tie!\n",
            "Enter 'rock', 'paper', or 'scissors' (or 'quit' to stop playing): rock\n",
            "Computer chose: scissors\n",
            "You win!\n"
          ]
        }
      ],
      "source": [
        "import random\n",
        "\n",
        "def get_computer_choice():\n",
        "    choices = [\"rock\", \"paper\", \"scissors\"]\n",
        "    return random.choice(choices)\n",
        "\n",
        "def determine_winner(user_choice, computer_choice):\n",
        "    if user_choice == computer_choice:\n",
        "        return \"It's a tie!\"\n",
        "    elif user_choice == \"rock\":\n",
        "        return \"You win!\" if computer_choice == \"scissors\" else \"You lose!\"\n",
        "    elif user_choice == \"paper\":\n",
        "        return \"You win!\" if computer_choice == \"rock\" else \"You lose!\"\n",
        "    elif user_choice == \"scissors\":\n",
        "        return \"You win!\" if computer_choice == \"paper\" else \"You lose!\"\n",
        "\n",
        "def main():\n",
        "    print(\"Welcome to Rock, Paper, Scissors!\")\n",
        "\n",
        "    while True:\n",
        "        user_choice = input(\"Enter 'rock', 'paper', or 'scissors' (or 'quit' to stop playing): \").lower()\n",
        "\n",
        "        if user_choice == 'quit':\n",
        "            print(\"Thanks for playing!\")\n",
        "            break\n",
        "        elif user_choice not in [\"rock\", \"paper\", \"scissors\"]:\n",
        "            print(\"Invalid input! Please enter 'rock', 'paper', or 'scissors'.\")\n",
        "            continue\n",
        "\n",
        "        computer_choice = get_computer_choice()\n",
        "        print(f\"Computer chose: {computer_choice}\")\n",
        "\n",
        "        result = determine_winner(user_choice, computer_choice)\n",
        "        print(result)\n",
        "\n",
        "# Run the game\n",
        "if __name__ == '__main__':\n",
        "    main()\n"
      ]
    }
  ]
}